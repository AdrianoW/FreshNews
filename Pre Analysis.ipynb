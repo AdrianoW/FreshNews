{
 "cells": [
  {
   "cell_type": "markdown",
   "metadata": {},
   "source": [
    "# Real Time News Project - Prototype"
   ]
  },
  {
   "cell_type": "markdown",
   "metadata": {},
   "source": [
    "Everyday I am bombarded by news, from many places. Even Google News gives me at least 3 or 4 times the same news, but from different sources.\n",
    "\n",
    "My idea for the project (so far) is a service of real time news based on twitter posts. A kind of Mashable, but with auto news and auto classification of the news for easy view and no repetition of news.\n",
    "\n",
    "The news could be classified as well based on its sentiment to whether it is a \"good\" news or \"bad\" news.\n"
   ]
  },
  {
   "cell_type": "markdown",
   "metadata": {},
   "source": [
    "### The problem"
   ]
  },
  {
   "cell_type": "markdown",
   "metadata": {},
   "source": [
    "As Data Science, the problems that I see are:\n",
    "\n",
    "    - Find the \"best\" links (news) to show. What is the concept of best? Is this the most retweeted? Is the news that comes from a very popular user (lots of followers)?\n",
    "    - Urls may come from different person, but the source is the same. I need to make sure that I have the final news, not multiple urls for the same source.\n",
    "    - Classify according to the topic of the news and filter spams\n",
    "    - Deduplicate the same news that came from multiple places.\n",
    "    - Classify according to the sentiment."
   ]
  },
  {
   "cell_type": "markdown",
   "metadata": {},
   "source": [
    "### Solution Overview"
   ]
  },
  {
   "cell_type": "markdown",
   "metadata": {},
   "source": [
    "To achieve the goal of the project, the following steps need to be done:\n",
    "\n",
    "- Data acquisition and Analysis\n",
    "    - I'll be using the twitter stream api to gather the tweets with urls. \n",
    "    - I want to use Spark Streaming for data aquisition but I could use the python tweepy, used on this prototype\n",
    "- Data Preparation\n",
    "    - for each tweet, I need to identify if they are spam\n",
    "    - fetch the news from the original source\n",
    "    - filter properties like language, urls that lead only to photos and no news.\n",
    "    - Spark is my intended tool to use on this part.\n",
    "- Model training\n",
    "    - Create/find a good topic corpus for topic classification\n",
    "    - Create a model for identify spams\n",
    "    - Create, train and validate models for the topic, sentiment and deduplication\n",
    "    - The benchmark for the quality of the news is going to be news that are on the trending topics and are on my system / that are on google news.\n",
    "    - Python will be used on this part. Probably a mix of Scikit, ntlk, gensim, pattern and Sparks's MLLib\n",
    "- Presentation\n",
    "    - The news and other computation information will be presented on a meteor made website that uses AngularJS and Material Design\n",
    "    - Maybe give an option for the user to re classify a news if it is not correct"
   ]
  },
  {
   "cell_type": "markdown",
   "metadata": {},
   "source": [
    "## Prototype"
   ]
  },
  {
   "cell_type": "code",
   "execution_count": 1,
   "metadata": {
    "collapsed": false
   },
   "outputs": [
    {
     "name": "stdout",
     "output_type": "stream",
     "text": [
      "Populating the interactive namespace from numpy and matplotlib\n"
     ]
    }
   ],
   "source": [
    "%pylab inline\n",
    "import json\n",
    "from IPython.lib.display import IFrame\n",
    "import seaborn as sns\n",
    "import numpy as np"
   ]
  },
  {
   "cell_type": "markdown",
   "metadata": {},
   "source": [
    "### The Data"
   ]
  },
  {
   "cell_type": "markdown",
   "metadata": {},
   "source": [
    "The data for this prototype came from Twitter's stream api. The data has 2.8GB of data, 560k tweets collect from `Jul 18 17:35:17 +0000 2015` to `Sat Jul 18 20:36:09 +0000 2015` using the filter http only."
   ]
  },
  {
   "cell_type": "markdown",
   "metadata": {},
   "source": [
    "The script below uses SPARK to do the processing, using the VM provided on EDX course [Introduction to Big Data with Apache Spark](https://www.edx.org/course/introduction-big-data-apache-spark-uc-berkeleyx-cs100-1x)"
   ]
  },
  {
   "cell_type": "code",
   "execution_count": 2,
   "metadata": {
    "collapsed": false
   },
   "outputs": [],
   "source": [
    "raw = sc.textFile('./tweet_cache.txt')"
   ]
  },
  {
   "cell_type": "markdown",
   "metadata": {},
   "source": [
    "#### SIMPLE COUNT OF TWITS WITH THE URL"
   ]
  },
  {
   "cell_type": "markdown",
   "metadata": {},
   "source": [
    "The first metric that I thought of using was the number of tweets with the same URL. Basically, get all the tweets and count the number of times the url appeared. But that was not a very good metric."
   ]
  },
  {
   "cell_type": "code",
   "execution_count": 3,
   "metadata": {
    "collapsed": false
   },
   "outputs": [],
   "source": [
    "def check_url(tweet):\n",
    "    '''\n",
    "    Verify if there is a valid URL in the tweet\n",
    "    :param tweet: a String with the what should be a dictionary\n",
    "    : return a valid url\n",
    "    '''\n",
    "    ret = []\n",
    "    # load the tweet to a dictionary and get the full url param\n",
    "    tweet_dic = json.loads(tweet)\n",
    "    entities = tweet_dic.get('entities', None)\n",
    "    if entities:\n",
    "        urls = entities.get(u'urls', '')\n",
    "        for url in urls:\n",
    "             ret.append(url.get('expanded_url', url.get('url', '')))\n",
    "\n",
    "    return ret\n",
    "\n",
    "    "
   ]
  },
  {
   "cell_type": "code",
   "execution_count": 4,
   "metadata": {
    "collapsed": false,
    "scrolled": true
   },
   "outputs": [],
   "source": [
    "# remove blank lines, get all the urls, emit a (url,1 pair) for a count of most posts \n",
    "urls_rd = raw.filter(lambda l: l != '').flatMap(lambda l: check_url(l)).filter(lambda l: l != '').map(lambda l: (l,1))"
   ]
  },
  {
   "cell_type": "code",
   "execution_count": 5,
   "metadata": {
    "collapsed": false
   },
   "outputs": [],
   "source": [
    "# sum the (url, 1) pairs\n",
    "urls_array = urls_rd.reduceByKey(lambda a,b: a+b).sortBy(lambda l: -l[1] ).collect()"
   ]
  },
  {
   "cell_type": "code",
   "execution_count": 76,
   "metadata": {
    "collapsed": false
   },
   "outputs": [
    {
     "name": "stdout",
     "output_type": "stream",
     "text": [
      "Total Number of URLS: 190900\n",
      "Mean of amount of times the url appear: 1.562404\n",
      "Median of amount of times the url appear: 1.000000\n",
      "SD of amount of times the url appear: 22.422330\n"
     ]
    }
   ],
   "source": [
    "print 'Total Number of URLS: %d' % len(urls_array)\n",
    "print 'Mean of amount of times the url appear: %f' % np.mean([ u[1] for u in urls_array])\n",
    "print 'Median of amount of times the url appear: %f' % np.median([ u[1] for u in urls_array])\n",
    "print 'SD of amount of times the url appear: %f' % np.std([ u[1] for u in urls_array])"
   ]
  },
  {
   "cell_type": "code",
   "execution_count": 77,
   "metadata": {
    "collapsed": false
   },
   "outputs": [
    {
     "data": {
      "image/png": "[encoded data removed]",
      "text/plain": [
       "<matplotlib.figure.Figure at 0x9fadebec>"
      ]
     },
     "metadata": {},
     "output_type": "display_data"
    }
   ],
   "source": [
    "# plot the first hundred most repeated url\n",
    "sns.distplot([ u[1] for u in urls_array[0:100]]);"
   ]
  },
  {
   "cell_type": "code",
   "execution_count": 78,
   "metadata": {
    "collapsed": false
   },
   "outputs": [
    {
     "data": {
      "image/png": "[encoded data removed]",
      "text/plain": [
       "<matplotlib.figure.Figure at 0x9fa0ebec>"
      ]
     },
     "metadata": {},
     "output_type": "display_data"
    }
   ],
   "source": [
    "# plot the first hundred most repeated url\n",
    "sns.distplot([ u[1] for u in urls_array[2000:3000]]);"
   ]
  },
  {
   "cell_type": "markdown",
   "metadata": {},
   "source": [
    "The distribution has a long tail. That means that few are very present and others not so much. Let's have a look on 3 of the \"best\" urls I have:"
   ]
  },
  {
   "cell_type": "code",
   "execution_count": 6,
   "metadata": {
    "collapsed": false
   },
   "outputs": [
    {
     "name": "stdout",
     "output_type": "stream",
     "text": [
      "Opening (u'http://qurani.tv', 9077)\n"
     ]
    },
    {
     "data": {
      "text/html": [
       "\n",
       "        <iframe\n",
       "            width=\"800\"\n",
       "            height=\"300\"\n",
       "            src=\"http://qurani.tv\"\n",
       "            frameborder=\"0\"\n",
       "            allowfullscreen\n",
       "        ></iframe>\n",
       "        "
      ],
      "text/plain": [
       "<IPython.lib.display.IFrame at 0xaac2b22c>"
      ]
     },
     "execution_count": 6,
     "metadata": {},
     "output_type": "execute_result"
    }
   ],
   "source": [
    "urlnum = 1\n",
    "print 'Opening', urls_array[0]\n",
    "IFrame(urls_array[0][0], 800,300)"
   ]
  },
  {
   "cell_type": "code",
   "execution_count": 7,
   "metadata": {
    "collapsed": false
   },
   "outputs": [
    {
     "name": "stdout",
     "output_type": "stream",
     "text": [
      "Opening (u'http://Gharedly.Com', 1116)\n"
     ]
    },
    {
     "data": {
      "text/html": [
       "\n",
       "        <iframe\n",
       "            width=\"800\"\n",
       "            height=\"300\"\n",
       "            src=\"http://Gharedly.Com\"\n",
       "            frameborder=\"0\"\n",
       "            allowfullscreen\n",
       "        ></iframe>\n",
       "        "
      ],
      "text/plain": [
       "<IPython.lib.display.IFrame at 0xaac2b1cc>"
      ]
     },
     "execution_count": 7,
     "metadata": {},
     "output_type": "execute_result"
    }
   ],
   "source": [
    "# other examples\n",
    "print 'Opening', urls_array[urlnum*2]\n",
    "IFrame(urls_array[urlnum*2][0], 800,300)"
   ]
  },
  {
   "cell_type": "code",
   "execution_count": 8,
   "metadata": {
    "collapsed": false
   },
   "outputs": [
    {
     "name": "stdout",
     "output_type": "stream",
     "text": [
      "Opening (u'http://i-qra.com/t/3081/', 303)\n"
     ]
    },
    {
     "data": {
      "text/html": [
       "\n",
       "        <iframe\n",
       "            width=\"800\"\n",
       "            height=\"300\"\n",
       "            src=\"http://i-qra.com/t/3081/\"\n",
       "            frameborder=\"0\"\n",
       "            allowfullscreen\n",
       "        ></iframe>\n",
       "        "
      ],
      "text/plain": [
       "<IPython.lib.display.IFrame at 0xaac2b28c>"
      ]
     },
     "execution_count": 8,
     "metadata": {},
     "output_type": "execute_result"
    }
   ],
   "source": [
    "print 'Opening', urls_array[urlnum*20]\n",
    "IFrame(urls_array[urlnum*20][0], 800,300)"
   ]
  },
  {
   "cell_type": "markdown",
   "metadata": {},
   "source": [
    "So, no real news so far. Lets have a look on why it happens:"
   ]
  },
  {
   "cell_type": "code",
   "execution_count": 9,
   "metadata": {
    "collapsed": false
   },
   "outputs": [
    {
     "data": {
      "text/plain": [
       "[(u'http://qurani.tv', 9077),\n",
       " (u'http://fllwrs.com', 1222),\n",
       " (u'http://Gharedly.Com', 1116),\n",
       " (u'http://gigam.es/imtw_Tribez', 1066),\n",
       " (u'http://mipersonahoy.com/descubrir/', 925),\n",
       " (u'http://www.crowdfireapp.com/?r=td', 864),\n",
       " (u'http://zad-muslim.com', 757),\n",
       " (u'http://www.tuitutil.net', 724),\n",
       " (u'http://goo.gl/2Izmua', 724),\n",
       " (u'http://bit.do/o_4', 681)]"
      ]
     },
     "execution_count": 9,
     "metadata": {},
     "output_type": "execute_result"
    }
   ],
   "source": [
    "urls_array[0:10]"
   ]
  },
  {
   "cell_type": "markdown",
   "metadata": {},
   "source": [
    "![caption](Other/image1.png)"
   ]
  },
  {
   "cell_type": "markdown",
   "metadata": {},
   "source": [
    "You will probably not understand as it is in portuguese, but all this guys are saying completly different things but with the same link. **SO, i can say that I just found a network of spammers (or infected accounts). Actually, 724 profiles.**"
   ]
  },
  {
   "cell_type": "markdown",
   "metadata": {},
   "source": [
    "Conclusion: I could get a trend on twitter. That SPAM is transmitted A LOT of times with a lot of twits. Not a good metric."
   ]
  },
  {
   "cell_type": "markdown",
   "metadata": {},
   "source": [
    "#### COUNTS OF FOLLOWERS AS METRIC"
   ]
  },
  {
   "cell_type": "markdown",
   "metadata": {},
   "source": [
    "Number of tweets is not a good metrics, so let's try with number of followers/friends. Twitter basically put the news on your stream if you are following someone. \n",
    "\n",
    "The average number of clicks on a Google Adwords campaign is 4% of the visualization. I don't have the number of people that see a post as when you log into Twitter it will show you the most recent tweets on your timeline. But we can say that the probability of somebody reading a news from a big source is bigger than when it comes from a small source."
   ]
  },
  {
   "cell_type": "code",
   "execution_count": 10,
   "metadata": {
    "collapsed": false
   },
   "outputs": [],
   "source": [
    "def get_url_follower(tweet):\n",
    "    '''\n",
    "    Count the number of friends and foloowers for the user who is tweeting the url\n",
    "    :param tweet:  String with json represantation of tweet\n",
    "    : return a tuple with (url, (follower_count, 1))\n",
    "    '''\n",
    "    ret = []\n",
    "    # load the tweet to a dictionary and get the full url param\n",
    "    tweet_dic = json.loads(tweet)\n",
    "    entities = tweet_dic.get('entities', None)\n",
    "    user = tweet_dic.get('user') \n",
    "    c = 0\n",
    "    print user\n",
    "    if user:\n",
    "        c = user.get('friends_count', 0) + user.get('followers_count', 0)\n",
    "    if entities:\n",
    "        urls = entities.get(u'urls', '')\n",
    "        for url in urls:\n",
    "            u = url.get('expanded_url', url.get('url', ''))\n",
    "            ret.append((u,(c,1)))\n",
    "\n",
    "    return ret    "
   ]
  },
  {
   "cell_type": "code",
   "execution_count": 27,
   "metadata": {
    "collapsed": false
   },
   "outputs": [
    {
     "data": {
      "text/plain": [
       "[(u'http://goo.gl/2Izmua', (54176518, 724)),\n",
       " (u'http://myh.airtrick.co/SH5J', (29023789, 409)),\n",
       " (u'http://HydrohsClothing.Com', (20488994, 257)),\n",
       " (u'http://qurani.tv', (19884545, 9077)),\n",
       " (u'http://nyti.ms/1RBZYeS', (18062115, 6)),\n",
       " (u'http://f.itness.co/SH4Aa', (16262020, 208)),\n",
       " (u'http://myn.atural.me/SH8A', (15886667, 209)),\n",
       " (u'http://c.heatersfound.com/SH456', (14129520, 199)),\n",
       " (u'http://6-pack.co/4O6amk', (9724567, 110)),\n",
       " (u'http://econ.st/1MeGRnx', (9499930, 1))]"
      ]
     },
     "execution_count": 27,
     "metadata": {},
     "output_type": "execute_result"
    }
   ],
   "source": [
    "# filter lines with tweets, and sum the number of folower/friends as well as the count\n",
    "urls_rd = raw.filter(lambda l: l != '').flatMap(lambda l: get_url_follower(l))\n",
    "urls_array = urls_rd.reduceByKey(lambda a,b: (a[0]+b[0],a[1]+b[1])).sortBy(lambda l: -l[1][0] ).collect()\n",
    "urls_array[0:10]"
   ]
  },
  {
   "cell_type": "code",
   "execution_count": 12,
   "metadata": {
    "collapsed": false
   },
   "outputs": [
    {
     "name": "stdout",
     "output_type": "stream",
     "text": [
      "Total Number of URLS: 190900\n",
      "Mean of friends count: 16077.289686\n",
      "Median of friends count: 890.500000\n",
      "SD of friends count: 225333.865272\n"
     ]
    }
   ],
   "source": [
    "print 'Total Number of URLS: %d' % len(urls_array)\n",
    "print 'Mean of friends count: %f' % np.mean([ u[1][0] for u in urls_array])\n",
    "print 'Median of friends count: %f' % np.median([ u[1][0] for u in urls_array])\n",
    "print 'SD of friends count: %f' % np.std([ u[1][0] for u in urls_array])"
   ]
  },
  {
   "cell_type": "code",
   "execution_count": 13,
   "metadata": {
    "collapsed": false
   },
   "outputs": [
    {
     "name": "stderr",
     "output_type": "stream",
     "text": [
      "/usr/lib/pymodules/python2.7/matplotlib/font_manager.py:1236: UserWarning: findfont: Font family ['sans-serif'] not found. Falling back to Bitstream Vera Sans\n",
      "  (prop.get_family(), self.defaultFamily[fontext]))\n",
      "/usr/lib/pymodules/python2.7/matplotlib/font_manager.py:1246: UserWarning: findfont: Could not match :family=Bitstream Vera Sans:style=normal:variant=normal:weight=normal:stretch=normal:size=10.0. Returning /usr/share/matplotlib/mpl-data/fonts/ttf/cmb10.ttf\n",
      "  UserWarning)\n"
     ]
    },
    {
     "data": {
      "image/png": "[encoded data removed]",
      "text/plain": [
       "<matplotlib.figure.Figure at 0xaac2bacc>"
      ]
     },
     "metadata": {},
     "output_type": "display_data"
    }
   ],
   "source": [
    "# plot the first hundred most powerful urls based on number of friends\n",
    "sns.distplot([ u[1][0] for u in urls_array[0:100]]);"
   ]
  },
  {
   "cell_type": "markdown",
   "metadata": {},
   "source": [
    "#### Only ENGLISH Tweets"
   ]
  },
  {
   "cell_type": "markdown",
   "metadata": {},
   "source": [
    "For this prototype I will be using only English tweets as the sentiment and topic analysis are easier to do on this language."
   ]
  },
  {
   "cell_type": "code",
   "execution_count": 14,
   "metadata": {
    "collapsed": true
   },
   "outputs": [],
   "source": [
    "def to_dict(tweet):\n",
    "    '''\n",
    "    Convert the saved tweet as json to a dictionary\n",
    "    :param tweet: a String with json represantation of tweet\n",
    "    : return a dict representing the tweet\n",
    "    '''\n",
    "    ret = []\n",
    "    # load the tweet to a dictionary and get the full url param\n",
    "    tweet_dic = json.loads(tweet)\n",
    "    return tweet_dic"
   ]
  },
  {
   "cell_type": "code",
   "execution_count": 15,
   "metadata": {
    "collapsed": true
   },
   "outputs": [],
   "source": [
    "def get_url_follower_from_dict(tweet_dic):\n",
    "    '''\n",
    "    Verify if there is a valid URL in the tweet\n",
    "    :param tweet: a String with the what should be a dictionary\n",
    "    : return a valid url\n",
    "    '''\n",
    "    ret = []\n",
    "    # load the tweet to a dictionary and get the full url param\n",
    "    entities = tweet_dic.get('entities', None)\n",
    "    user = tweet_dic.get('user') \n",
    "    c = tweet_dic.get('retweet_count', 0) \n",
    "    print user\n",
    "    if user:\n",
    "        c += user.get('friends_count', 0) + user.get('followers_count', 0) \n",
    "    if entities:\n",
    "        urls = entities.get(u'urls', '')\n",
    "        for url in urls:\n",
    "            u = url.get('expanded_url', url.get('url', ''))\n",
    "            ret.append((u,(c,1)))\n",
    "\n",
    "    return ret    "
   ]
  },
  {
   "cell_type": "code",
   "execution_count": 28,
   "metadata": {
    "collapsed": false
   },
   "outputs": [
    {
     "data": {
      "text/plain": [
       "[(u'http://myh.airtrick.co/SH5J', (29023789, 409)),\n",
       " (u'http://HydrohsClothing.Com', (20488994, 257)),\n",
       " (u'http://nyti.ms/1RBZYeS', (18062115, 6)),\n",
       " (u'http://f.itness.co/SH4Aa', (16262020, 208)),\n",
       " (u'http://myn.atural.me/SH8A', (15886667, 209)),\n",
       " (u'http://c.heatersfound.com/SH456', (14129520, 199)),\n",
       " (u'http://6-pack.co/4O6amk', (9724567, 110)),\n",
       " (u'http://econ.st/1MeGRnx', (9499930, 1)),\n",
       " (u'http://ti.me/1Mhc3m8', (7741724, 4)),\n",
       " (u'http://thesun.uk/6015BDQYd', (7630845, 204))]"
      ]
     },
     "execution_count": 28,
     "metadata": {},
     "output_type": "execute_result"
    }
   ],
   "source": [
    "# get only english tweets, sum the amount of followers and the amount of tweets that had the url\n",
    "urls_rd = (raw\n",
    "            .filter(lambda l: l != '')\n",
    "            .map(lambda l: to_dict(l))\n",
    "            .filter(lambda td: td.get('lang', '')=='en')\n",
    "            .flatMap(lambda l: get_url_follower_from_dict(l)))\n",
    "urls_array = (urls_rd\n",
    "                .reduceByKey(lambda a,b: (a[0]+b[0],a[1]+b[1]))\n",
    "                .sortBy(lambda l: -l[1][0])\n",
    "                .collect())\n",
    "urls_array[0:10]    "
   ]
  },
  {
   "cell_type": "markdown",
   "metadata": {
    "collapsed": true
   },
   "source": [
    "Let's check some of the urls:\n",
    "\n",
    "1. Urls with many tweets\n",
    "2. Urls with few tweets"
   ]
  },
  {
   "cell_type": "code",
   "execution_count": 17,
   "metadata": {
    "collapsed": false
   },
   "outputs": [
    {
     "data": {
      "text/html": [
       "\n",
       "        <iframe\n",
       "            width=\"800\"\n",
       "            height=\"350\"\n",
       "            src=\"http://myh.airtrick.co/SH5J\"\n",
       "            frameborder=\"0\"\n",
       "            allowfullscreen\n",
       "        ></iframe>\n",
       "        "
      ],
      "text/plain": [
       "<IPython.lib.display.IFrame at 0xaac7a20c>"
      ]
     },
     "execution_count": 17,
     "metadata": {},
     "output_type": "execute_result"
    }
   ],
   "source": [
    "IFrame('http://myh.airtrick.co/SH5J', 800,350)"
   ]
  },
  {
   "cell_type": "code",
   "execution_count": 18,
   "metadata": {
    "collapsed": false
   },
   "outputs": [
    {
     "data": {
      "text/html": [
       "\n",
       "        <iframe\n",
       "            width=\"800\"\n",
       "            height=\"350\"\n",
       "            src=\"http://ti.me/1Mhc3m8\"\n",
       "            frameborder=\"0\"\n",
       "            allowfullscreen\n",
       "        ></iframe>\n",
       "        "
      ],
      "text/plain": [
       "<IPython.lib.display.IFrame at 0xaac7a5cc>"
      ]
     },
     "execution_count": 18,
     "metadata": {},
     "output_type": "execute_result"
    }
   ],
   "source": [
    "IFrame('http://ti.me/1Mhc3m8', 800,350)"
   ]
  },
  {
   "cell_type": "markdown",
   "metadata": {},
   "source": [
    "The problem of spam is not over yet, but there seems to be a pattern here. Url with many tweets are spam, the others are not. Probably I can use a machine learning here to separate the spam and not spam"
   ]
  },
  {
   "cell_type": "markdown",
   "metadata": {},
   "source": [
    "### Download the pages"
   ]
  },
  {
   "cell_type": "code",
   "execution_count": 32,
   "metadata": {
    "collapsed": false
   },
   "outputs": [
    {
     "data": {
      "text/plain": [
       "u'<!DOCTYPE html>\\n<!--[if IE 8]>\\n<html class=\"no-js lt-ie9 is-ie\"> <![endif]-->\\n<!--[if IE 9]>\\n<html class=\"no-js is-ie\"> <![endif]-->\\n<!--[if gt IE 9]><!-->\\n<html class=\"no-js\"> <!--<![endif]-->\\n<head>\\n\\t<meta charset=\"utf-8\">\\n\\t<title>Footage of Young Queen Elizabeth Giving Nazi Salute Causes Controversy</title>\\n\\t<meta name=\"viewport\" content=\"width=device-width,minimum-scale=1.0,maximum-scale=1.0\">\\n\\t<meta name=\"apple-mobile-web-app-capable\" content=\"yes\">\\n\\t<meta name=\"apple-mobile-web-app-status-bar-style\" content=\"black-translucent\">\\n\\t<meta name=\"msapplication-TileColor\" content=\"#FFFFFF\">\\n\\t<meta name=\"msapplication-TileImage\" content=\"https://s0.wp.com/wp-content/themes/vip/time2014/img/time-touch_icon_152.png\">\\n\\t<!--[if lt IE 9]>\\n\\t<script src=\"https://s0.wp.com/wp-content/themes/vip/time2014/js/dist/html5shiv.js\"></script><![endif]--><script>\\n\\twindow._sf_async_config = {};\\n\\twindow._sf_async_config.uid = 3088;\\n\\twindow._sf_async_config.domain = \\'time.com\\';\\n\\twindow._sf_async_config.useC'"
      ]
     },
     "execution_count": 32,
     "metadata": {},
     "output_type": "execute_result"
    }
   ],
   "source": [
    "from pattern.web import download, plaintext\n",
    "\n",
    "# Download the page from time \n",
    "html = download('http://ti.me/1Mhc3m8', unicode=True)\n",
    "html[0:1000]"
   ]
  },
  {
   "cell_type": "code",
   "execution_count": 33,
   "metadata": {
    "collapsed": false
   },
   "outputs": [
    {
     "data": {
      "text/plain": [
       "u'Footage of Young Queen Elizabeth Giving Nazi Salute Causes Controversy\\n\\nTime.com\\n\\nSubscribe\\n\\nSign InSign Out\\n\\nHomeU.S.PoliticsWorldBusinessTechHealthScienceEntertainmentNewsfeedLivingSportsHistoryThe TIME VaultMagazineIdeasParentsTIME Labs\\n\\nMoneyLIFEThe Daily Cut\\n\\nPhotographyVideos\\n\\nPittsburgh: The ComebackNext Generation LeadersThe 100 Most Influential PeopleAsk the ExpertKnow Right NowNew AdventurersPerson of the Year 2014Shaping Our FutureSolutions That MatterTIME ExplainsTop 10 Everything of 2014Top of the WorldWonders of the WorldA Year In Space\\n\\nSubscribeNewslettersFeedbackPrivacy PolicyYour California Privacy RightsTerms of UseAd Choices\\n\\nRSSTIME AppsTIME for KidsAdvertisingReprints and PermissionsSite MapHelpCustomer Service\\xa9 2015 Time Inc. All rights reserved.\\n\\nDavid Sweat Details How He Escaped From Prison\\n\\nHome-sharing Company Airbnb Is After More Business Users\\n\\nSee What JFK Airport\\u2019s Extravagant New \\u2018Pet Terminal\\u2019 Will Look Like\\n\\nHillary Clinton Criticizes \\u2018Hair and Makeup'"
      ]
     },
     "execution_count": 33,
     "metadata": {},
     "output_type": "execute_result"
    }
   ],
   "source": [
    "# clean the text\n",
    "s = plaintext(html)\n",
    "s[0:1000]"
   ]
  },
  {
   "cell_type": "markdown",
   "metadata": {},
   "source": [
    "### Topic Analysis"
   ]
  },
  {
   "cell_type": "markdown",
   "metadata": {},
   "source": [
    "One of the expected features is to put the news into some topic, that intersts the reader. Lets do it in a simple way."
   ]
  },
  {
   "cell_type": "code",
   "execution_count": 21,
   "metadata": {
    "collapsed": true
   },
   "outputs": [],
   "source": [
    "### Topic analysis\n",
    "from sklearn.datasets import fetch_20newsgroups\n",
    "from sklearn.feature_extraction.text import TfidfVectorizer\n",
    "from sklearn.naive_bayes import MultinomialNB\n",
    "from sklearn import metrics"
   ]
  },
  {
   "cell_type": "code",
   "execution_count": 22,
   "metadata": {
    "collapsed": false
   },
   "outputs": [
    {
     "data": {
      "text/plain": [
       "MultinomialNB(alpha=0.01, class_prior=None, fit_prior=True)"
      ]
     },
     "execution_count": 22,
     "metadata": {},
     "output_type": "execute_result"
    }
   ],
   "source": [
    "## get the 20 newsgroup training set, creating the word vector\n",
    "newsgroups_train = fetch_20newsgroups(subset='train')\n",
    "vectorizer = TfidfVectorizer()\n",
    "vectors = vectorizer.fit_transform(newsgroups_train.data)\n",
    "\n",
    "## train a Multinomial Naive Bayes\n",
    "clf = MultinomialNB(alpha=.01)\n",
    "clf.fit(vectors, newsgroups_train.target)"
   ]
  },
  {
   "cell_type": "code",
   "execution_count": 23,
   "metadata": {
    "collapsed": false
   },
   "outputs": [
    {
     "name": "stdout",
     "output_type": "stream",
     "text": [
      " the topic for this article is: talk.politics.guns\n"
     ]
    }
   ],
   "source": [
    "# create the word vector for the text\n",
    "article_words = vectorizer.transform([s])\n",
    "\n",
    "# predict the topic for the article\n",
    "pred = clf.predict(article_words)\n",
    "\n",
    "# print the topic\n",
    "print ' the topic for this article is: %s'  % newsgroups_train.target_names[pred]"
   ]
  },
  {
   "cell_type": "markdown",
   "metadata": {},
   "source": [
    "Ok, not spetacular but it is something. It knows it is about politics. Maybe a more suited corpus would work better, but ok for a prototype."
   ]
  },
  {
   "cell_type": "markdown",
   "metadata": {},
   "source": [
    "### Sentiment Analysis"
   ]
  },
  {
   "cell_type": "code",
   "execution_count": 24,
   "metadata": {
    "collapsed": true
   },
   "outputs": [],
   "source": [
    "from pattern.en import sentiment"
   ]
  },
  {
   "cell_type": "code",
   "execution_count": 25,
   "metadata": {
    "collapsed": false
   },
   "outputs": [
    {
     "name": "stdout",
     "output_type": "stream",
     "text": [
      "Polarity (neg ↔ pos),  subjectivity (objective ↔ subjective)\n"
     ]
    },
    {
     "data": {
      "text/plain": [
       "(0.10636209029066171, 0.347595856524428)"
      ]
     },
     "execution_count": 25,
     "metadata": {},
     "output_type": "execute_result"
    }
   ],
   "source": [
    "# check the sentiment analysis for one news\n",
    "w = sentiment(s)\n",
    "print 'Polarity (neg ↔ pos),  subjectivity (objective ↔ subjective)'\n",
    "w"
   ]
  },
  {
   "cell_type": "code",
   "execution_count": 26,
   "metadata": {
    "collapsed": false
   },
   "outputs": [
    {
     "name": "stdout",
     "output_type": "stream",
     "text": [
      "[([u'young'], 0.1, 0.4, None), ([u'daily'], 0.0, 0.0, None), ([u'most'], 0.5, 0.5, None), ([u'right'], 0.2857142857142857, 0.5357142857142857, None), ([u'more'], 0.5, 0.5, None), ([u'new'], 0.13636363636363635, 0.45454545454545453, None), ([u'real', '!'], 0.25, 0.30000000000000004, None), ([u'arrest'], -0.05, 0.0, None), ([u'dead'], -0.2, 0.4, None), ([u'new'], 0.13636363636363635, 0.45454545454545453, None), ([u'new'], 0.13636363636363635, 0.45454545454545453, None), ([u'iconic'], 0.5, 0.5, None), ([u'blue'], 0.0, 0.1, None), ([u'young'], 0.1, 0.4, None), ([u'british'], 0.0, 0.0, None), ([u'later'], 0.0, 0.0, None), ([u'sympathetic'], 0.5, 1.0, None), ([u'long'], -0.05, 0.4, None), ([u'subject'], -0.16666666666666666, 0.3333333333333333, None), ([u'historical'], 0.0, 0.0, None), ([u'disappointing'], -0.6, 0.7, None), ([u'apparently'], 0.05, 0.35, None), ([u'personal'], 0.0, 0.3, None), ([u'own'], 0.6, 1.0, None), ([u'military'], -0.1, 0.1, None), ([u'historical'], 0.0, 0.0, None), ([u'full'], 0.35, 0.55, None), ([u'middle'], 0.0, 0.0, None)]\n"
     ]
    }
   ],
   "source": [
    "# lets see the words\n",
    "print w.assessments"
   ]
  },
  {
   "cell_type": "markdown",
   "metadata": {},
   "source": [
    "Not really a positive news. The threshold could be higher and the corpus could be different."
   ]
  }
 ],
 "metadata": {
  "kernelspec": {
   "display_name": "Python 2",
   "language": "python",
   "name": "python2"
  },
  "language_info": {
   "codemirror_mode": {
    "name": "ipython",
    "version": 2
   },
   "file_extension": ".py",
   "mimetype": "text/x-python",
   "name": "python",
   "nbconvert_exporter": "python",
   "pygments_lexer": "ipython2",
   "version": "2.7.6"
  }
 },
 "nbformat": 4,
 "nbformat_minor": 0
}
